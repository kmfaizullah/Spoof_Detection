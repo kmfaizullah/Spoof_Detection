{
 "cells": [
  {
   "cell_type": "code",
   "execution_count": 27,
   "metadata": {},
   "outputs": [],
   "source": [
    "from sklearn import svm\n",
    "import pickle as pkl\n",
    "import numpy as np\n",
    "import random\n",
    "import keras\n",
    "import glob\n",
    "import pickle\n",
    "import sklearn\n",
    "from keras.applications.vgg16 import VGG16\n",
    "from keras.preprocessing.image import load_img\n",
    "from keras.preprocessing.image import img_to_array\n",
    "from keras.applications.vgg16 import preprocess_input\n",
    "from keras.models import Model\n",
    "from sklearn.metrics import confusion_matrix\n",
    "\n",
    "from sklearn.tree import DecisionTreeClassifier\n",
    "\n",
    "from sklearn.ensemble import RandomForestClassifier, AdaBoostClassifier, BaggingClassifier\n"
   ]
  },
  {
   "cell_type": "code",
   "execution_count": 28,
   "metadata": {},
   "outputs": [],
   "source": [
    "# Load file\n",
    "def load_file(filename):\n",
    "    # open the file as read only\n",
    "    file = open(filename, 'r')\n",
    "    # read all text\n",
    "    text = file.read()\n",
    "    # close the file\n",
    "    file.close()\n",
    "    return text\n",
    "\n",
    "# Load features of the pictures\n",
    "def load_features(filename):\n",
    "    all_features = pkl.load(open(filename, 'rb'))\n",
    "\n",
    "    return all_features\n",
    "\n",
    "def train_svm(feature_vector,labels):\n",
    "    #model = svm.SVC(C=10, kernel='sigmoid', verbose=True)\n",
    "    #model = RandomForestClassifier(criterion=\"entropy\", random_state=0)\n",
    "    model = BaggingClassifier(base_estimator=RandomForestClassifier(criterion=\"entropy\",n_estimators=5,random_state=0), n_estimators=5, random_state=0, verbose=1, n_jobs=-1)\n",
    "    model.fit(feature_vector,labels)\n",
    "    return model\n",
    "\n",
    "def predict_image(svm_model,path,target_size=224):\n",
    "    model = VGG16()\n",
    "    # Modify model to remove the last layer\n",
    "    model.layers.pop()\n",
    "    model = Model(inputs=model.inputs, outputs=model.layers[-1].output)\n",
    "\n",
    "    image = load_img(path, target_size=(target_size, target_size))\n",
    "    image = img_to_array(image)\n",
    "\n",
    "    image = image.reshape((1, image.shape[0], image.shape[1], image.shape[2]))\n",
    "    # prepare the image for the VGG model\n",
    "    image = preprocess_input(image)\n",
    "    # get features\n",
    "    img_feature = model.predict(image, verbose=0)\n",
    "    return svm_model.predict(list(img_feature))"
   ]
  },
  {
   "cell_type": "code",
   "execution_count": 31,
   "metadata": {},
   "outputs": [
    {
     "name": "stdout",
     "output_type": "stream",
     "text": [
      "training non-spoofed images: 2081\n",
      "training spoofed_images: 2081\n",
      "4162\n"
     ]
    }
   ],
   "source": [
    "positive_features = load_features('REAL_TRAIN.pkl')\n",
    "negative_features = load_features('SPOOF_TRAIN.pkl')[:len(positive_features)]\n",
    "\n",
    "print(\"training non-spoofed images:\", len(positive_features))\n",
    "print(\"training spoofed_images:\", len(negative_features))\n",
    "\n",
    "positive_labels = list(np.zeros((len(positive_features)),int))\n",
    "negative_labels = list(np.ones((len(negative_features)),int))\n",
    "\n",
    "combined = list(zip(positive_features, positive_labels))\n",
    "random.shuffle(combined)\n",
    "positive_features[:], positive_labels[:] = zip(*combined)\n",
    "positive_features = [fes.reshape(-1) for fes in positive_features]\n",
    "\n",
    "combined2 = list(zip(negative_features, negative_labels))\n",
    "random.shuffle(combined2)\n",
    "negative_features[:], negative_labels[:] = zip(*combined2)\n",
    "negative_features = [fes.reshape(-1) for fes in negative_features]\n",
    "\n",
    "both_features = np.concatenate((positive_features, negative_features))\n",
    "both_labels = np.concatenate((positive_labels, negative_labels))\n",
    "\n",
    "print(len(both_features))\n"
   ]
  },
  {
   "cell_type": "code",
   "execution_count": 32,
   "metadata": {},
   "outputs": [
    {
     "name": "stderr",
     "output_type": "stream",
     "text": [
      "[Parallel(n_jobs=4)]: Using backend LokyBackend with 4 concurrent workers.\n",
      "[Parallel(n_jobs=4)]: Done   2 out of   4 | elapsed:    0.5s remaining:    0.5s\n"
     ]
    },
    {
     "name": "stdout",
     "output_type": "stream",
     "text": [
      "BaggingClassifier(base_estimator=RandomForestClassifier(bootstrap=True,\n",
      "                                                        ccp_alpha=0.0,\n",
      "                                                        class_weight=None,\n",
      "                                                        criterion='entropy',\n",
      "                                                        max_depth=None,\n",
      "                                                        max_features='auto',\n",
      "                                                        max_leaf_nodes=None,\n",
      "                                                        max_samples=None,\n",
      "                                                        min_impurity_decrease=0.0,\n",
      "                                                        min_impurity_split=None,\n",
      "                                                        min_samples_leaf=1,\n",
      "                                                        min_samples_split=2,\n",
      "                                                        min_weight_fraction_leaf=0.0,\n",
      "                                                        n_estimators=5,\n",
      "                                                        n_jobs=None,\n",
      "                                                        oob_score=False,\n",
      "                                                        random_state=0,\n",
      "                                                        verbose=0,\n",
      "                                                        warm_start=False),\n",
      "                  bootstrap=True, bootstrap_features=False, max_features=1.0,\n",
      "                  max_samples=1.0, n_estimators=5, n_jobs=-1, oob_score=False,\n",
      "                  random_state=0, verbose=1, warm_start=False)\n"
     ]
    },
    {
     "name": "stderr",
     "output_type": "stream",
     "text": [
      "[Parallel(n_jobs=4)]: Done   4 out of   4 | elapsed:    0.9s finished\n"
     ]
    }
   ],
   "source": [
    "model = train_svm(both_features,both_labels)\n",
    "print(model)"
   ]
  },
  {
   "cell_type": "code",
   "execution_count": 33,
   "metadata": {},
   "outputs": [],
   "source": [
    "filename = \"model.pkl\"\n",
    "pickle.dump(model, open(filename, 'wb'))\n",
    "\n",
    "# some time later...\n",
    "\n",
    "# load the model from disk\n",
    "loaded_model = pickle.load(open(filename, 'rb'))"
   ]
  },
  {
   "cell_type": "code",
   "execution_count": 34,
   "metadata": {},
   "outputs": [],
   "source": [
    "from sklearn.metrics import accuracy_score"
   ]
  },
  {
   "cell_type": "code",
   "execution_count": 35,
   "metadata": {},
   "outputs": [
    {
     "name": "stdout",
     "output_type": "stream",
     "text": [
      "Test images not spoofed: 493\n",
      "Test images spoofed: 493\n"
     ]
    }
   ],
   "source": [
    "positive_features_test = load_features('REAL_TEST.pkl')\n",
    "positive_features_test = [fes.reshape(-1) for fes in positive_features_test]\n",
    "\n",
    "negative_features_test = load_features('SPOOF_TEST.pkl')[:len(positive_features_test)]\n",
    "negative_features_test = [fes.reshape(-1) for fes in negative_features_test]\n",
    "\n",
    "positive_labels_test = list(np.zeros((len(positive_features_test)),int))\n",
    "negative_labels_test = list(np.ones((len(negative_features_test)),int))\n",
    "\n",
    "print(\"Test images not spoofed:\",len(positive_features_test))\n",
    "print(\"Test images spoofed:\",len(negative_features_test))\n",
    "\n",
    "both_features_test = np.concatenate((positive_features_test, negative_features_test))\n",
    "both_labels_test   = np.concatenate((positive_labels_test, negative_labels_test))"
   ]
  },
  {
   "cell_type": "code",
   "execution_count": 36,
   "metadata": {},
   "outputs": [
    {
     "name": "stderr",
     "output_type": "stream",
     "text": [
      "[Parallel(n_jobs=4)]: Using backend LokyBackend with 4 concurrent workers.\n",
      "[Parallel(n_jobs=4)]: Done   2 out of   4 | elapsed:    0.0s remaining:    0.0s\n",
      "[Parallel(n_jobs=4)]: Done   4 out of   4 | elapsed:    0.0s finished\n"
     ]
    }
   ],
   "source": [
    "predicted = model.predict(both_features_test)"
   ]
  },
  {
   "cell_type": "code",
   "execution_count": null,
   "metadata": {},
   "outputs": [],
   "source": []
  },
  {
   "cell_type": "code",
   "execution_count": 37,
   "metadata": {},
   "outputs": [
    {
     "data": {
      "text/plain": [
       "91.78498985801217"
      ]
     },
     "execution_count": 37,
     "metadata": {},
     "output_type": "execute_result"
    }
   ],
   "source": [
    "# get the accuracy\n",
    "accuracy_score(both_labels_test, predicted)*100"
   ]
  },
  {
   "cell_type": "code",
   "execution_count": 41,
   "metadata": {},
   "outputs": [],
   "source": [
    "filename = \"best_model.pkl\"\n",
    "loaded_model = pickle.load(open(filename, 'rb'))"
   ]
  },
  {
   "cell_type": "code",
   "execution_count": 42,
   "metadata": {},
   "outputs": [
    {
     "name": "stderr",
     "output_type": "stream",
     "text": [
      "[Parallel(n_jobs=4)]: Using backend LokyBackend with 4 concurrent workers.\n",
      "[Parallel(n_jobs=4)]: Done   2 out of   4 | elapsed:    0.0s remaining:    0.0s\n",
      "[Parallel(n_jobs=4)]: Done   4 out of   4 | elapsed:    0.0s finished\n"
     ]
    }
   ],
   "source": [
    "predicted = loaded_model.predict(both_features_test)"
   ]
  },
  {
   "cell_type": "code",
   "execution_count": 43,
   "metadata": {},
   "outputs": [
    {
     "data": {
      "text/plain": [
       "91.78498985801217"
      ]
     },
     "execution_count": 43,
     "metadata": {},
     "output_type": "execute_result"
    }
   ],
   "source": [
    "accuracy_score(both_labels_test, predicted)*100"
   ]
  },
  {
   "cell_type": "code",
   "execution_count": 45,
   "metadata": {},
   "outputs": [
    {
     "name": "stdout",
     "output_type": "stream",
     "text": [
      "Automatically created module for IPython interactive environment\n",
      "[[488   5]\n",
      " [ 76 417]]\n"
     ]
    },
    {
     "data": {
      "image/png": "[encoded data removed]",
      "text/plain": [
       "<Figure size 432x288 with 2 Axes>"
      ]
     },
     "metadata": {
      "needs_background": "light"
     },
     "output_type": "display_data"
    }
   ],
   "source": [
    "print(__doc__)\n",
    "\n",
    "import numpy as np\n",
    "import matplotlib.pyplot as plt\n",
    "\n",
    "from sklearn import svm, datasets\n",
    "from sklearn.model_selection import train_test_split\n",
    "from sklearn.metrics import confusion_matrix\n",
    "from sklearn.utils.multiclass import unique_labels\n",
    "\n",
    "\n",
    "def plot_confusion_matrix(both_labels_test, predicted,\n",
    "                          normalize=False,\n",
    "                          title=None,\n",
    "                          cmap=plt.cm.binary):\n",
    " \n",
    "\n",
    "    # Compute confusion matrix\n",
    "    cm = confusion_matrix(both_labels_test, predicted)\n",
    "    # Only use the labels that appear in the dat\n",
    "    print(cm)\n",
    "\n",
    "    fig, ax = plt.subplots()\n",
    "    im = ax.imshow(cm, interpolation='nearest', cmap=cmap)\n",
    "    ax.figure.colorbar(im, ax=ax)\n",
    "    # We want to show all ticks...\n",
    "    ax.set(\n",
    "           # ... and label them with the respective list entries\n",
    "           ylabel='True Label',\n",
    "           xlabel='Predicted Label')\n",
    "\n",
    "    # Rotate the tick labels and set their alignment.\n",
    "    plt.setp(ax.get_xticklabels(), rotation=45, ha=\"right\",\n",
    "             rotation_mode=\"anchor\")\n",
    "\n",
    "    # Loop over data dimensions and create text annotations.\n",
    "    fmt = '.2f' if normalize else 'd'\n",
    "    thresh = cm.max() / 2.\n",
    "    for i in range(cm.shape[0]):\n",
    "        for j in range(cm.shape[1]):\n",
    "            ax.text(j, i, format(cm[i, j], fmt),\n",
    "                    ha=\"center\", va=\"center\",\n",
    "                    color=\"white\" if cm[i, j] > thresh else \"black\")\n",
    "    fig.tight_layout()\n",
    "    return ax\n",
    "\n",
    "\n",
    "np.set_printoptions(precision=2)\n",
    "\n",
    "# Plot non-normalized confusion matrix\n",
    "plot_confusion_matrix(both_labels_test, predicted)\n",
    "\n",
    "\n",
    "plt.show()"
   ]
  },
  {
   "cell_type": "code",
   "execution_count": 46,
   "metadata": {},
   "outputs": [
    {
     "name": "stdout",
     "output_type": "stream",
     "text": [
      "Average precision-recall score: 0.91\n"
     ]
    }
   ],
   "source": [
    "from sklearn.metrics import average_precision_score\n",
    "average_precision = average_precision_score(both_labels_test, predicted)\n",
    "\n",
    "print('Average precision-recall score: {0:0.2f}'.format(\n",
    "      average_precision))\n"
   ]
  },
  {
   "cell_type": "code",
   "execution_count": 47,
   "metadata": {},
   "outputs": [
    {
     "name": "stdout",
     "output_type": "stream",
     "text": [
      "              precision    recall  f1-score   support\n",
      "\n",
      "           0       0.87      0.99      0.92       493\n",
      "           1       0.99      0.85      0.91       493\n",
      "\n",
      "    accuracy                           0.92       986\n",
      "   macro avg       0.93      0.92      0.92       986\n",
      "weighted avg       0.93      0.92      0.92       986\n",
      "\n"
     ]
    }
   ],
   "source": [
    "from sklearn.metrics import classification_report\n",
    "print(classification_report(both_labels_test, predicted))"
   ]
  },
  {
   "cell_type": "code",
   "execution_count": null,
   "metadata": {},
   "outputs": [],
   "source": []
  }
 ],
 "metadata": {
  "kernelspec": {
   "display_name": "Python 3",
   "language": "python",
   "name": "python3"
  },
  "language_info": {
   "codemirror_mode": {
    "name": "ipython",
    "version": 3
   },
   "file_extension": ".py",
   "mimetype": "text/x-python",
   "name": "python",
   "nbconvert_exporter": "python",
   "pygments_lexer": "ipython3",
   "version": "3.6.10"
  }
 },
 "nbformat": 4,
 "nbformat_minor": 4
}
